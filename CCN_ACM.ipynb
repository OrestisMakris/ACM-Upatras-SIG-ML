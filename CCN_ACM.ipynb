version https://git-lfs.github.com/spec/v1
oid sha256:fe31e877d2553a594fbda8ca7a393a69d7aacc6374d68edac9fe432bc11d835f
size 280565
